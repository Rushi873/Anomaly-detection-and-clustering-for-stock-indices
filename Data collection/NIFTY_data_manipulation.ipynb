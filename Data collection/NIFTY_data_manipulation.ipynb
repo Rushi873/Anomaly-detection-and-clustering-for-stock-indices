{
 "cells": [
  {
   "cell_type": "code",
   "execution_count": 36,
   "id": "73d2dd54-0e0a-458b-88b4-3f9bfcf2fd3a",
   "metadata": {},
   "outputs": [],
   "source": [
    "import pandas as pd"
   ]
  },
  {
   "cell_type": "code",
   "execution_count": 37,
   "id": "77db664e-3df4-4825-afef-fd203ad335ad",
   "metadata": {},
   "outputs": [],
   "source": [
    "df1 = pd.read_csv(\"D:/UFG/Data collection/NIFTY 50 Historical data.csv\")\n",
    "df2 = pd.read_csv(\"D:/UFG/Data collection/NIFTY 50 Historical data (1).csv\")"
   ]
  },
  {
   "cell_type": "code",
   "execution_count": 38,
   "id": "b29de629-32c9-4c50-a127-296668807bee",
   "metadata": {},
   "outputs": [
    {
     "data": {
      "text/plain": [
       "Index(['Date', 'Price', 'Open', 'High', 'Low', 'Vol.', 'Change %'], dtype='object')"
      ]
     },
     "execution_count": 38,
     "metadata": {},
     "output_type": "execute_result"
    }
   ],
   "source": [
    "df1.columns"
   ]
  },
  {
   "cell_type": "code",
   "execution_count": 39,
   "id": "4c920596-549c-470d-abd4-1600d9443bbe",
   "metadata": {},
   "outputs": [],
   "source": [
    "df1['Date'] = pd.to_datetime(df1['Date'], format='%d-%m-%Y')\n",
    "df2['Date'] = pd.to_datetime(df2['Date'], format='%d-%m-%Y')\n",
    "combined_df = pd.concat([df1, df2])\n"
   ]
  },
  {
   "cell_type": "code",
   "execution_count": 40,
   "id": "12d579b0-d866-4adc-ad26-2b2ab107aac4",
   "metadata": {},
   "outputs": [],
   "source": [
    "# Dataframe manipulation\n",
    "combined_df = combined_df.drop_duplicates(subset='Date')\n",
    "combined_df = combined_df.sort_values(by='Date').reset_index(drop=True)\n",
    "end_date = pd.to_datetime('01-06-2024', dayfirst=True)\n",
    "filtered_df = combined_df[combined_df['Date'] <= end_date]\n",
    "filtered_df = filtered_df.drop(columns=['Change %'])"
   ]
  },
  {
   "cell_type": "code",
   "execution_count": 41,
   "id": "079262e9-86dd-4122-8f85-f71b20413321",
   "metadata": {},
   "outputs": [
    {
     "data": {
      "text/html": [
       "<div>\n",
       "<style scoped>\n",
       "    .dataframe tbody tr th:only-of-type {\n",
       "        vertical-align: middle;\n",
       "    }\n",
       "\n",
       "    .dataframe tbody tr th {\n",
       "        vertical-align: top;\n",
       "    }\n",
       "\n",
       "    .dataframe thead th {\n",
       "        text-align: right;\n",
       "    }\n",
       "</style>\n",
       "<table border=\"1\" class=\"dataframe\">\n",
       "  <thead>\n",
       "    <tr style=\"text-align: right;\">\n",
       "      <th></th>\n",
       "      <th>Close</th>\n",
       "      <th>Open</th>\n",
       "      <th>High</th>\n",
       "      <th>Low</th>\n",
       "      <th>Volume (in Billion)</th>\n",
       "    </tr>\n",
       "    <tr>\n",
       "      <th>Date</th>\n",
       "      <th></th>\n",
       "      <th></th>\n",
       "      <th></th>\n",
       "      <th></th>\n",
       "      <th></th>\n",
       "    </tr>\n",
       "  </thead>\n",
       "  <tbody>\n",
       "    <tr>\n",
       "      <th>2000-01-03</th>\n",
       "      <td>1592.20</td>\n",
       "      <td>1482.15</td>\n",
       "      <td>1592.90</td>\n",
       "      <td>1482.15</td>\n",
       "      <td>25.36</td>\n",
       "    </tr>\n",
       "    <tr>\n",
       "      <th>2000-01-04</th>\n",
       "      <td>1638.70</td>\n",
       "      <td>1594.40</td>\n",
       "      <td>1641.95</td>\n",
       "      <td>1594.40</td>\n",
       "      <td>38.79</td>\n",
       "    </tr>\n",
       "    <tr>\n",
       "      <th>2000-01-05</th>\n",
       "      <td>1595.80</td>\n",
       "      <td>1634.55</td>\n",
       "      <td>1635.50</td>\n",
       "      <td>1555.05</td>\n",
       "      <td>62.15</td>\n",
       "    </tr>\n",
       "    <tr>\n",
       "      <th>2000-01-06</th>\n",
       "      <td>1617.60</td>\n",
       "      <td>1595.80</td>\n",
       "      <td>1639.00</td>\n",
       "      <td>1595.80</td>\n",
       "      <td>51.27</td>\n",
       "    </tr>\n",
       "    <tr>\n",
       "      <th>2000-01-07</th>\n",
       "      <td>1613.30</td>\n",
       "      <td>1616.60</td>\n",
       "      <td>1628.25</td>\n",
       "      <td>1597.20</td>\n",
       "      <td>54.32</td>\n",
       "    </tr>\n",
       "    <tr>\n",
       "      <th>...</th>\n",
       "      <td>...</td>\n",
       "      <td>...</td>\n",
       "      <td>...</td>\n",
       "      <td>...</td>\n",
       "      <td>...</td>\n",
       "    </tr>\n",
       "    <tr>\n",
       "      <th>2024-05-27</th>\n",
       "      <td>22932.45</td>\n",
       "      <td>23038.95</td>\n",
       "      <td>23110.80</td>\n",
       "      <td>22871.20</td>\n",
       "      <td>260.01</td>\n",
       "    </tr>\n",
       "    <tr>\n",
       "      <th>2024-05-28</th>\n",
       "      <td>22888.15</td>\n",
       "      <td>22977.15</td>\n",
       "      <td>22998.55</td>\n",
       "      <td>22858.50</td>\n",
       "      <td>217.89</td>\n",
       "    </tr>\n",
       "    <tr>\n",
       "      <th>2024-05-29</th>\n",
       "      <td>22704.70</td>\n",
       "      <td>22762.75</td>\n",
       "      <td>22825.50</td>\n",
       "      <td>22685.45</td>\n",
       "      <td>269.93</td>\n",
       "    </tr>\n",
       "    <tr>\n",
       "      <th>2024-05-30</th>\n",
       "      <td>22488.65</td>\n",
       "      <td>22617.45</td>\n",
       "      <td>22705.75</td>\n",
       "      <td>22417.00</td>\n",
       "      <td>373.37</td>\n",
       "    </tr>\n",
       "    <tr>\n",
       "      <th>2024-05-31</th>\n",
       "      <td>22530.70</td>\n",
       "      <td>22568.10</td>\n",
       "      <td>22653.75</td>\n",
       "      <td>22465.10</td>\n",
       "      <td>572.12</td>\n",
       "    </tr>\n",
       "  </tbody>\n",
       "</table>\n",
       "<p>6071 rows × 5 columns</p>\n",
       "</div>"
      ],
      "text/plain": [
       "               Close      Open      High       Low  Volume (in Billion)\n",
       "Date                                                                   \n",
       "2000-01-03   1592.20   1482.15   1592.90   1482.15                25.36\n",
       "2000-01-04   1638.70   1594.40   1641.95   1594.40                38.79\n",
       "2000-01-05   1595.80   1634.55   1635.50   1555.05                62.15\n",
       "2000-01-06   1617.60   1595.80   1639.00   1595.80                51.27\n",
       "2000-01-07   1613.30   1616.60   1628.25   1597.20                54.32\n",
       "...              ...       ...       ...       ...                  ...\n",
       "2024-05-27  22932.45  23038.95  23110.80  22871.20               260.01\n",
       "2024-05-28  22888.15  22977.15  22998.55  22858.50               217.89\n",
       "2024-05-29  22704.70  22762.75  22825.50  22685.45               269.93\n",
       "2024-05-30  22488.65  22617.45  22705.75  22417.00               373.37\n",
       "2024-05-31  22530.70  22568.10  22653.75  22465.10               572.12\n",
       "\n",
       "[6071 rows x 5 columns]"
      ]
     },
     "execution_count": 41,
     "metadata": {},
     "output_type": "execute_result"
    }
   ],
   "source": [
    "# Function to convert volumes to billions\n",
    "def convert_value(value):\n",
    "    if isinstance(value, str):\n",
    "        value = value.replace(',', '')  # Remove commas\n",
    "        if 'B' in value:\n",
    "            return float(value.replace('B', ''))\n",
    "        elif 'M' in value:\n",
    "            return float(value.replace('M', '')) / 1000  # Convert million to billion\n",
    "    return float(value)\n",
    "\n",
    "for col in filtered_df.columns:\n",
    "    if col != 'Date':\n",
    "        filtered_df[col] = filtered_df[col].apply(convert_value)\n",
    "\n",
    "filtered_df.rename(columns = {'Price':'Close', 'Vol.':'Volume (in Billion)'}, inplace = True)\n",
    "filtered_df.set_index(\"Date\", inplace=True)\n",
    "filtered_df"
   ]
  },
  {
   "cell_type": "code",
   "execution_count": 42,
   "id": "69e3d4c1-38fe-4113-bacd-3d01b279e0df",
   "metadata": {},
   "outputs": [],
   "source": [
    "filtered_df.to_csv('D:/UFG/Data collection/NIFTY.csv')"
   ]
  },
  {
   "cell_type": "code",
   "execution_count": null,
   "id": "20401a9b-4f02-4090-acb1-1f69d49f2de4",
   "metadata": {},
   "outputs": [],
   "source": []
  }
 ],
 "metadata": {
  "kernelspec": {
   "display_name": "Python 3 (ipykernel)",
   "language": "python",
   "name": "python3"
  },
  "language_info": {
   "codemirror_mode": {
    "name": "ipython",
    "version": 3
   },
   "file_extension": ".py",
   "mimetype": "text/x-python",
   "name": "python",
   "nbconvert_exporter": "python",
   "pygments_lexer": "ipython3",
   "version": "3.11.8"
  },
  "widgets": {
   "application/vnd.jupyter.widget-state+json": {
    "state": {},
    "version_major": 2,
    "version_minor": 0
   }
  }
 },
 "nbformat": 4,
 "nbformat_minor": 5
}
