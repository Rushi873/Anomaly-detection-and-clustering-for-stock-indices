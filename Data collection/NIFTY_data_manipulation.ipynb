{
 "cells": [
  {
   "cell_type": "code",
   "execution_count": 16,
   "id": "73d2dd54-0e0a-458b-88b4-3f9bfcf2fd3a",
   "metadata": {},
   "outputs": [],
   "source": [
    "import pandas as pd"
   ]
  },
  {
   "cell_type": "code",
   "execution_count": 18,
   "id": "77db664e-3df4-4825-afef-fd203ad335ad",
   "metadata": {},
   "outputs": [],
   "source": [
    "df1 = pd.read_csv(\"D:/UFG/Data collection/NIFTY 50 Historical data.csv\")\n",
    "df2 = pd.read_csv(\"D:/UFG/Data collection/NIFTY 50 Historical data (1).csv\")"
   ]
  },
  {
   "cell_type": "code",
   "execution_count": 19,
   "id": "b29de629-32c9-4c50-a127-296668807bee",
   "metadata": {},
   "outputs": [
    {
     "data": {
      "text/plain": [
       "Index(['Date', 'Price', 'Open', 'High', 'Low', 'Vol.', 'Change %'], dtype='object')"
      ]
     },
     "execution_count": 19,
     "metadata": {},
     "output_type": "execute_result"
    }
   ],
   "source": [
    "df1.columns"
   ]
  },
  {
   "cell_type": "code",
   "execution_count": 20,
   "id": "4c920596-549c-470d-abd4-1600d9443bbe",
   "metadata": {},
   "outputs": [],
   "source": [
    "df1['Date'] = pd.to_datetime(df1['Date'], dayfirst=True)\n",
    "df2['Date'] = pd.to_datetime(df2['Date'], dayfirst=True)\n",
    "combined_df = pd.concat([df1, df2])\n"
   ]
  },
  {
   "cell_type": "code",
   "execution_count": 21,
   "id": "079262e9-86dd-4122-8f85-f71b20413321",
   "metadata": {},
   "outputs": [
    {
     "name": "stderr",
     "output_type": "stream",
     "text": [
      "C:\\Users\\Rushi\\AppData\\Local\\Temp\\ipykernel_18932\\1170213893.py:6: SettingWithCopyWarning: \n",
      "A value is trying to be set on a copy of a slice from a DataFrame.\n",
      "Try using .loc[row_indexer,col_indexer] = value instead\n",
      "\n",
      "See the caveats in the documentation: https://pandas.pydata.org/pandas-docs/stable/user_guide/indexing.html#returning-a-view-versus-a-copy\n",
      "  filtered_df['Vol.'] = filtered_df['Vol.'].str.replace('B', '')\n",
      "C:\\Users\\Rushi\\AppData\\Local\\Temp\\ipykernel_18932\\1170213893.py:7: SettingWithCopyWarning: \n",
      "A value is trying to be set on a copy of a slice from a DataFrame\n",
      "\n",
      "See the caveats in the documentation: https://pandas.pydata.org/pandas-docs/stable/user_guide/indexing.html#returning-a-view-versus-a-copy\n",
      "  filtered_df.rename(columns = {'Price':'Close', 'Vol.':'Volume (in Billion)'}, inplace = True)\n"
     ]
    },
    {
     "data": {
      "text/html": [
       "<div>\n",
       "<style scoped>\n",
       "    .dataframe tbody tr th:only-of-type {\n",
       "        vertical-align: middle;\n",
       "    }\n",
       "\n",
       "    .dataframe tbody tr th {\n",
       "        vertical-align: top;\n",
       "    }\n",
       "\n",
       "    .dataframe thead th {\n",
       "        text-align: right;\n",
       "    }\n",
       "</style>\n",
       "<table border=\"1\" class=\"dataframe\">\n",
       "  <thead>\n",
       "    <tr style=\"text-align: right;\">\n",
       "      <th></th>\n",
       "      <th>Close</th>\n",
       "      <th>Open</th>\n",
       "      <th>High</th>\n",
       "      <th>Low</th>\n",
       "      <th>Volume (in Billion)</th>\n",
       "    </tr>\n",
       "    <tr>\n",
       "      <th>Date</th>\n",
       "      <th></th>\n",
       "      <th></th>\n",
       "      <th></th>\n",
       "      <th></th>\n",
       "      <th></th>\n",
       "    </tr>\n",
       "  </thead>\n",
       "  <tbody>\n",
       "    <tr>\n",
       "      <th>2000-01-03</th>\n",
       "      <td>1,592.20</td>\n",
       "      <td>1,482.15</td>\n",
       "      <td>1,592.90</td>\n",
       "      <td>1,482.15</td>\n",
       "      <td>25.36</td>\n",
       "    </tr>\n",
       "    <tr>\n",
       "      <th>2000-01-04</th>\n",
       "      <td>1,638.70</td>\n",
       "      <td>1,594.40</td>\n",
       "      <td>1,641.95</td>\n",
       "      <td>1,594.40</td>\n",
       "      <td>38.79</td>\n",
       "    </tr>\n",
       "    <tr>\n",
       "      <th>2000-01-05</th>\n",
       "      <td>1,595.80</td>\n",
       "      <td>1,634.55</td>\n",
       "      <td>1,635.50</td>\n",
       "      <td>1,555.05</td>\n",
       "      <td>62.15</td>\n",
       "    </tr>\n",
       "    <tr>\n",
       "      <th>2000-01-06</th>\n",
       "      <td>1,617.60</td>\n",
       "      <td>1,595.80</td>\n",
       "      <td>1,639.00</td>\n",
       "      <td>1,595.80</td>\n",
       "      <td>51.27</td>\n",
       "    </tr>\n",
       "    <tr>\n",
       "      <th>2000-01-07</th>\n",
       "      <td>1,613.30</td>\n",
       "      <td>1,616.60</td>\n",
       "      <td>1,628.25</td>\n",
       "      <td>1,597.20</td>\n",
       "      <td>54.32</td>\n",
       "    </tr>\n",
       "    <tr>\n",
       "      <th>...</th>\n",
       "      <td>...</td>\n",
       "      <td>...</td>\n",
       "      <td>...</td>\n",
       "      <td>...</td>\n",
       "      <td>...</td>\n",
       "    </tr>\n",
       "    <tr>\n",
       "      <th>2024-05-27</th>\n",
       "      <td>22,932.45</td>\n",
       "      <td>23,038.95</td>\n",
       "      <td>23,110.80</td>\n",
       "      <td>22,871.20</td>\n",
       "      <td>260.01</td>\n",
       "    </tr>\n",
       "    <tr>\n",
       "      <th>2024-05-28</th>\n",
       "      <td>22,888.15</td>\n",
       "      <td>22,977.15</td>\n",
       "      <td>22,998.55</td>\n",
       "      <td>22,858.50</td>\n",
       "      <td>217.89</td>\n",
       "    </tr>\n",
       "    <tr>\n",
       "      <th>2024-05-29</th>\n",
       "      <td>22,704.70</td>\n",
       "      <td>22,762.75</td>\n",
       "      <td>22,825.50</td>\n",
       "      <td>22,685.45</td>\n",
       "      <td>269.93</td>\n",
       "    </tr>\n",
       "    <tr>\n",
       "      <th>2024-05-30</th>\n",
       "      <td>22,488.65</td>\n",
       "      <td>22,617.45</td>\n",
       "      <td>22,705.75</td>\n",
       "      <td>22,417.00</td>\n",
       "      <td>373.37</td>\n",
       "    </tr>\n",
       "    <tr>\n",
       "      <th>2024-05-31</th>\n",
       "      <td>22,530.70</td>\n",
       "      <td>22,568.10</td>\n",
       "      <td>22,653.75</td>\n",
       "      <td>22,465.10</td>\n",
       "      <td>572.12</td>\n",
       "    </tr>\n",
       "  </tbody>\n",
       "</table>\n",
       "<p>6071 rows × 5 columns</p>\n",
       "</div>"
      ],
      "text/plain": [
       "                Close       Open       High        Low Volume (in Billion)\n",
       "Date                                                                      \n",
       "2000-01-03   1,592.20   1,482.15   1,592.90   1,482.15               25.36\n",
       "2000-01-04   1,638.70   1,594.40   1,641.95   1,594.40               38.79\n",
       "2000-01-05   1,595.80   1,634.55   1,635.50   1,555.05               62.15\n",
       "2000-01-06   1,617.60   1,595.80   1,639.00   1,595.80               51.27\n",
       "2000-01-07   1,613.30   1,616.60   1,628.25   1,597.20               54.32\n",
       "...               ...        ...        ...        ...                 ...\n",
       "2024-05-27  22,932.45  23,038.95  23,110.80  22,871.20              260.01\n",
       "2024-05-28  22,888.15  22,977.15  22,998.55  22,858.50              217.89\n",
       "2024-05-29  22,704.70  22,762.75  22,825.50  22,685.45              269.93\n",
       "2024-05-30  22,488.65  22,617.45  22,705.75  22,417.00              373.37\n",
       "2024-05-31  22,530.70  22,568.10  22,653.75  22,465.10              572.12\n",
       "\n",
       "[6071 rows x 5 columns]"
      ]
     },
     "execution_count": 21,
     "metadata": {},
     "output_type": "execute_result"
    }
   ],
   "source": [
    "# Dataframe manipulation\n",
    "combined_df = combined_df.drop_duplicates(subset='Date')\n",
    "combined_df = combined_df.sort_values(by='Date').reset_index(drop=True)\n",
    "end_date = pd.to_datetime('01-06-2024', dayfirst=True)\n",
    "filtered_df = combined_df[combined_df['Date'] <= end_date]\n",
    "filtered_df['Vol.'] = filtered_df['Vol.'].str.replace('B', '')\n",
    "filtered_df.rename(columns = {'Price':'Close', 'Vol.':'Volume (in Billion)'}, inplace = True)\n",
    "filtered_df = filtered_df.drop(columns=['Change %'])\n",
    "filtered_df.set_index(\"Date\", inplace=True)\n",
    "filtered_df"
   ]
  },
  {
   "cell_type": "code",
   "execution_count": 22,
   "id": "69e3d4c1-38fe-4113-bacd-3d01b279e0df",
   "metadata": {},
   "outputs": [],
   "source": [
    "filtered_df.to_csv('NIFTY.csv')"
   ]
  },
  {
   "cell_type": "code",
   "execution_count": null,
   "id": "26caa2a7-1c3e-4ebe-a51f-f0f4d32a701e",
   "metadata": {},
   "outputs": [],
   "source": []
  },
  {
   "cell_type": "code",
   "execution_count": null,
   "id": "9af826c2-81df-493f-9424-27124898643a",
   "metadata": {},
   "outputs": [],
   "source": []
  }
 ],
 "metadata": {
  "kernelspec": {
   "display_name": "Python 3 (ipykernel)",
   "language": "python",
   "name": "python3"
  },
  "language_info": {
   "codemirror_mode": {
    "name": "ipython",
    "version": 3
   },
   "file_extension": ".py",
   "mimetype": "text/x-python",
   "name": "python",
   "nbconvert_exporter": "python",
   "pygments_lexer": "ipython3",
   "version": "3.11.8"
  },
  "widgets": {
   "application/vnd.jupyter.widget-state+json": {
    "state": {},
    "version_major": 2,
    "version_minor": 0
   }
  }
 },
 "nbformat": 4,
 "nbformat_minor": 5
}
