{
 "cells": [
  {
   "cell_type": "code",
   "execution_count": 2,
   "id": "a2421e1f-f416-4e86-b07a-007f7e89e9c3",
   "metadata": {},
   "outputs": [],
   "source": [
    "import yfinance as yf\n",
    "import datetime\n",
    "import pandas as pd"
   ]
  },
  {
   "cell_type": "code",
   "execution_count": 3,
   "id": "03408c3d-881a-4e36-838a-cccc3a875cef",
   "metadata": {},
   "outputs": [
    {
     "name": "stderr",
     "output_type": "stream",
     "text": [
      "[*********************100%%**********************]  1 of 1 completed\n"
     ]
    }
   ],
   "source": [
    "# Getting the index data from yahoo finance\n",
    "\n",
    "start_date = \"2000-01-01\"\n",
    "end_date = \"2024-06-01\"\n",
    "ticker = \"^BVSP\"\n",
    "\n",
    "stock_data = yf.download(ticker, start=start_date, end=end_date, interval = '1d')\n",
    "stock_data = stock_data.drop(columns=['Adj Close'])\n",
    "stock_data['Volume'] = stock_data['Volume'].div(1000000)\n",
    "stock_data.rename(columns = {'Volume':'Volume (in Million)'}, inplace = True)"
   ]
  },
  {
   "cell_type": "code",
   "execution_count": 4,
   "id": "fc6e19b0-5062-4ee3-84e7-7735f9003299",
   "metadata": {},
   "outputs": [
    {
     "data": {
      "text/html": [
       "<div>\n",
       "<style scoped>\n",
       "    .dataframe tbody tr th:only-of-type {\n",
       "        vertical-align: middle;\n",
       "    }\n",
       "\n",
       "    .dataframe tbody tr th {\n",
       "        vertical-align: top;\n",
       "    }\n",
       "\n",
       "    .dataframe thead th {\n",
       "        text-align: right;\n",
       "    }\n",
       "</style>\n",
       "<table border=\"1\" class=\"dataframe\">\n",
       "  <thead>\n",
       "    <tr style=\"text-align: right;\">\n",
       "      <th></th>\n",
       "      <th>Open</th>\n",
       "      <th>High</th>\n",
       "      <th>Low</th>\n",
       "      <th>Close</th>\n",
       "      <th>Volume (in Million)</th>\n",
       "    </tr>\n",
       "    <tr>\n",
       "      <th>Date</th>\n",
       "      <th></th>\n",
       "      <th></th>\n",
       "      <th></th>\n",
       "      <th></th>\n",
       "      <th></th>\n",
       "    </tr>\n",
       "  </thead>\n",
       "  <tbody>\n",
       "    <tr>\n",
       "      <th>2000-01-03</th>\n",
       "      <td>17098.0</td>\n",
       "      <td>17408.0</td>\n",
       "      <td>16719.0</td>\n",
       "      <td>16930.0</td>\n",
       "      <td>0.0000</td>\n",
       "    </tr>\n",
       "    <tr>\n",
       "      <th>2000-01-04</th>\n",
       "      <td>16908.0</td>\n",
       "      <td>16908.0</td>\n",
       "      <td>15851.0</td>\n",
       "      <td>15851.0</td>\n",
       "      <td>0.0000</td>\n",
       "    </tr>\n",
       "    <tr>\n",
       "      <th>2000-01-05</th>\n",
       "      <td>15871.0</td>\n",
       "      <td>16302.0</td>\n",
       "      <td>15350.0</td>\n",
       "      <td>16245.0</td>\n",
       "      <td>0.0000</td>\n",
       "    </tr>\n",
       "    <tr>\n",
       "      <th>2000-01-06</th>\n",
       "      <td>16237.0</td>\n",
       "      <td>16499.0</td>\n",
       "      <td>15977.0</td>\n",
       "      <td>16107.0</td>\n",
       "      <td>0.0000</td>\n",
       "    </tr>\n",
       "    <tr>\n",
       "      <th>2000-01-07</th>\n",
       "      <td>16125.0</td>\n",
       "      <td>16449.0</td>\n",
       "      <td>16125.0</td>\n",
       "      <td>16309.0</td>\n",
       "      <td>0.0000</td>\n",
       "    </tr>\n",
       "    <tr>\n",
       "      <th>...</th>\n",
       "      <td>...</td>\n",
       "      <td>...</td>\n",
       "      <td>...</td>\n",
       "      <td>...</td>\n",
       "      <td>...</td>\n",
       "    </tr>\n",
       "    <tr>\n",
       "      <th>2024-05-24</th>\n",
       "      <td>124731.0</td>\n",
       "      <td>125257.0</td>\n",
       "      <td>124259.0</td>\n",
       "      <td>124306.0</td>\n",
       "      <td>9.2115</td>\n",
       "    </tr>\n",
       "    <tr>\n",
       "      <th>2024-05-27</th>\n",
       "      <td>124297.0</td>\n",
       "      <td>124535.0</td>\n",
       "      <td>124081.0</td>\n",
       "      <td>124496.0</td>\n",
       "      <td>4.3276</td>\n",
       "    </tr>\n",
       "    <tr>\n",
       "      <th>2024-05-28</th>\n",
       "      <td>124498.0</td>\n",
       "      <td>125392.0</td>\n",
       "      <td>123537.0</td>\n",
       "      <td>123780.0</td>\n",
       "      <td>9.1798</td>\n",
       "    </tr>\n",
       "    <tr>\n",
       "      <th>2024-05-29</th>\n",
       "      <td>123780.0</td>\n",
       "      <td>123780.0</td>\n",
       "      <td>122458.0</td>\n",
       "      <td>122707.0</td>\n",
       "      <td>8.2577</td>\n",
       "    </tr>\n",
       "    <tr>\n",
       "      <th>2024-05-31</th>\n",
       "      <td>122704.0</td>\n",
       "      <td>122837.0</td>\n",
       "      <td>121929.0</td>\n",
       "      <td>122098.0</td>\n",
       "      <td>15.9186</td>\n",
       "    </tr>\n",
       "  </tbody>\n",
       "</table>\n",
       "<p>6044 rows × 5 columns</p>\n",
       "</div>"
      ],
      "text/plain": [
       "                Open      High       Low     Close  Volume (in Million)\n",
       "Date                                                                   \n",
       "2000-01-03   17098.0   17408.0   16719.0   16930.0               0.0000\n",
       "2000-01-04   16908.0   16908.0   15851.0   15851.0               0.0000\n",
       "2000-01-05   15871.0   16302.0   15350.0   16245.0               0.0000\n",
       "2000-01-06   16237.0   16499.0   15977.0   16107.0               0.0000\n",
       "2000-01-07   16125.0   16449.0   16125.0   16309.0               0.0000\n",
       "...              ...       ...       ...       ...                  ...\n",
       "2024-05-24  124731.0  125257.0  124259.0  124306.0               9.2115\n",
       "2024-05-27  124297.0  124535.0  124081.0  124496.0               4.3276\n",
       "2024-05-28  124498.0  125392.0  123537.0  123780.0               9.1798\n",
       "2024-05-29  123780.0  123780.0  122458.0  122707.0               8.2577\n",
       "2024-05-31  122704.0  122837.0  121929.0  122098.0              15.9186\n",
       "\n",
       "[6044 rows x 5 columns]"
      ]
     },
     "execution_count": 4,
     "metadata": {},
     "output_type": "execute_result"
    }
   ],
   "source": [
    "stock_data"
   ]
  },
  {
   "cell_type": "code",
   "execution_count": 5,
   "id": "e17b2555-eb73-4528-ab3c-1f1eb98e11f0",
   "metadata": {},
   "outputs": [],
   "source": [
    "stock_data.to_csv('IBOV.csv')"
   ]
  },
  {
   "cell_type": "code",
   "execution_count": null,
   "id": "2aaae3c3-e123-4b3e-97d1-50e093877a8e",
   "metadata": {},
   "outputs": [],
   "source": []
  }
 ],
 "metadata": {
  "kernelspec": {
   "display_name": "Python 3 (ipykernel)",
   "language": "python",
   "name": "python3"
  },
  "language_info": {
   "codemirror_mode": {
    "name": "ipython",
    "version": 3
   },
   "file_extension": ".py",
   "mimetype": "text/x-python",
   "name": "python",
   "nbconvert_exporter": "python",
   "pygments_lexer": "ipython3",
   "version": "3.11.8"
  },
  "widgets": {
   "application/vnd.jupyter.widget-state+json": {
    "state": {},
    "version_major": 2,
    "version_minor": 0
   }
  }
 },
 "nbformat": 4,
 "nbformat_minor": 5
}
