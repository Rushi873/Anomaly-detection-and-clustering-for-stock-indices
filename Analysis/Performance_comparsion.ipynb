{
 "cells": [
  {
   "cell_type": "code",
   "execution_count": 1,
   "id": "7ac48336-c477-47c6-b7c0-3546e11b9e67",
   "metadata": {},
   "outputs": [],
   "source": [
    "%run Data_manipulation.ipynb"
   ]
  },
  {
   "cell_type": "markdown",
   "id": "e79a89f1-1c27-418a-b13c-e4030aa78565",
   "metadata": {},
   "source": [
    "# Loading data"
   ]
  },
  {
   "cell_type": "code",
   "execution_count": 2,
   "id": "dc2f54a5-ca6f-4750-aa69-2a4a03c81644",
   "metadata": {},
   "outputs": [],
   "source": [
    "NIFTY = pd.read_csv('D:/UFG/Data collection/NIFTY.csv')\n",
    "NIFTY['Date']= pd.to_datetime(NIFTY['Date'], format='%Y-%m-%d')\n",
    "scaled_data_NIFTY, scaler_NIFTY = scale_data(NIFTY)\n",
    "df_residuals_NIFTY, df_trend_NIFTY, df_seasonal_NIFTY, decomposition_results_NIFTY = transform_to_stationary(scaled_data_NIFTY)\n",
    "NIFTY.set_index('Date', inplace=True)\n",
    "scaled_data_NIFTY.set_index('Date', inplace=True)"
   ]
  },
  {
   "cell_type": "code",
   "execution_count": 3,
   "id": "69afa7a0-34ff-4649-b747-6953229165a7",
   "metadata": {},
   "outputs": [],
   "source": [
    "IBOV = pd.read_csv('D:/UFG/Data collection/IBOV.csv')\n",
    "IBOV['Date']= pd.to_datetime(IBOV['Date'], format='%Y-%m-%d')\n",
    "scaled_data_IBOV, scaler_IBOV = scale_data(IBOV)\n",
    "df_residuals_IBOV, df_trend_IBOV, df_seasonal_IBOV, decomposition_results_IBOV = transform_to_stationary(scaled_data_IBOV)\n",
    "IBOV.set_index('Date', inplace=True)\n",
    "scaled_data_IBOV.set_index('Date', inplace=True)"
   ]
  },
  {
   "cell_type": "code",
   "execution_count": 4,
   "id": "9870fcee-1aad-431c-a547-8c1e3f9cd77c",
   "metadata": {},
   "outputs": [
    {
     "data": {
      "text/html": [
       "<div>\n",
       "<style scoped>\n",
       "    .dataframe tbody tr th:only-of-type {\n",
       "        vertical-align: middle;\n",
       "    }\n",
       "\n",
       "    .dataframe tbody tr th {\n",
       "        vertical-align: top;\n",
       "    }\n",
       "\n",
       "    .dataframe thead th {\n",
       "        text-align: right;\n",
       "    }\n",
       "</style>\n",
       "<table border=\"1\" class=\"dataframe\">\n",
       "  <thead>\n",
       "    <tr style=\"text-align: right;\">\n",
       "      <th></th>\n",
       "      <th>Close_NIFTY</th>\n",
       "      <th>Close_IBOV</th>\n",
       "    </tr>\n",
       "    <tr>\n",
       "      <th>Date</th>\n",
       "      <th></th>\n",
       "      <th></th>\n",
       "    </tr>\n",
       "  </thead>\n",
       "  <tbody>\n",
       "    <tr>\n",
       "      <th>2000-01-03</th>\n",
       "      <td>1592.2</td>\n",
       "      <td>16930.0</td>\n",
       "    </tr>\n",
       "    <tr>\n",
       "      <th>2000-01-04</th>\n",
       "      <td>1638.7</td>\n",
       "      <td>15851.0</td>\n",
       "    </tr>\n",
       "    <tr>\n",
       "      <th>2000-01-05</th>\n",
       "      <td>1595.8</td>\n",
       "      <td>16245.0</td>\n",
       "    </tr>\n",
       "    <tr>\n",
       "      <th>2000-01-06</th>\n",
       "      <td>1617.6</td>\n",
       "      <td>16107.0</td>\n",
       "    </tr>\n",
       "    <tr>\n",
       "      <th>2000-01-07</th>\n",
       "      <td>1613.3</td>\n",
       "      <td>16309.0</td>\n",
       "    </tr>\n",
       "  </tbody>\n",
       "</table>\n",
       "</div>"
      ],
      "text/plain": [
       "            Close_NIFTY  Close_IBOV\n",
       "Date                               \n",
       "2000-01-03       1592.2     16930.0\n",
       "2000-01-04       1638.7     15851.0\n",
       "2000-01-05       1595.8     16245.0\n",
       "2000-01-06       1617.6     16107.0\n",
       "2000-01-07       1613.3     16309.0"
      ]
     },
     "execution_count": 4,
     "metadata": {},
     "output_type": "execute_result"
    }
   ],
   "source": [
    "# Align the data by merging on the date index\n",
    "aligned_data = pd.merge(NIFTY['Close'], IBOV['Close'], left_index=True, right_index=True, suffixes=('_NIFTY', '_IBOV'))\n",
    "aligned_data.head()"
   ]
  },
  {
   "cell_type": "code",
   "execution_count": 5,
   "id": "ef43b910-fd48-4e9a-803c-898d4ab2dcc1",
   "metadata": {},
   "outputs": [
    {
     "data": {
      "text/html": [
       "<div>\n",
       "<style scoped>\n",
       "    .dataframe tbody tr th:only-of-type {\n",
       "        vertical-align: middle;\n",
       "    }\n",
       "\n",
       "    .dataframe tbody tr th {\n",
       "        vertical-align: top;\n",
       "    }\n",
       "\n",
       "    .dataframe thead th {\n",
       "        text-align: right;\n",
       "    }\n",
       "</style>\n",
       "<table border=\"1\" class=\"dataframe\">\n",
       "  <thead>\n",
       "    <tr style=\"text-align: right;\">\n",
       "      <th></th>\n",
       "      <th>Close_NIFTY</th>\n",
       "      <th>Close_IBOV</th>\n",
       "      <th>Log_Return_NIFTY</th>\n",
       "      <th>Log_Return_IBOV</th>\n",
       "    </tr>\n",
       "    <tr>\n",
       "      <th>Date</th>\n",
       "      <th></th>\n",
       "      <th></th>\n",
       "      <th></th>\n",
       "      <th></th>\n",
       "    </tr>\n",
       "  </thead>\n",
       "  <tbody>\n",
       "    <tr>\n",
       "      <th>2000-01-04</th>\n",
       "      <td>1638.70</td>\n",
       "      <td>15851.0</td>\n",
       "      <td>0.028787</td>\n",
       "      <td>-0.065855</td>\n",
       "    </tr>\n",
       "    <tr>\n",
       "      <th>2000-01-05</th>\n",
       "      <td>1595.80</td>\n",
       "      <td>16245.0</td>\n",
       "      <td>-0.026528</td>\n",
       "      <td>0.024553</td>\n",
       "    </tr>\n",
       "    <tr>\n",
       "      <th>2000-01-06</th>\n",
       "      <td>1617.60</td>\n",
       "      <td>16107.0</td>\n",
       "      <td>0.013568</td>\n",
       "      <td>-0.008531</td>\n",
       "    </tr>\n",
       "    <tr>\n",
       "      <th>2000-01-07</th>\n",
       "      <td>1613.30</td>\n",
       "      <td>16309.0</td>\n",
       "      <td>-0.002662</td>\n",
       "      <td>0.012463</td>\n",
       "    </tr>\n",
       "    <tr>\n",
       "      <th>2000-01-10</th>\n",
       "      <td>1632.95</td>\n",
       "      <td>17022.0</td>\n",
       "      <td>0.012106</td>\n",
       "      <td>0.042790</td>\n",
       "    </tr>\n",
       "  </tbody>\n",
       "</table>\n",
       "</div>"
      ],
      "text/plain": [
       "            Close_NIFTY  Close_IBOV  Log_Return_NIFTY  Log_Return_IBOV\n",
       "Date                                                                  \n",
       "2000-01-04      1638.70     15851.0          0.028787        -0.065855\n",
       "2000-01-05      1595.80     16245.0         -0.026528         0.024553\n",
       "2000-01-06      1617.60     16107.0          0.013568        -0.008531\n",
       "2000-01-07      1613.30     16309.0         -0.002662         0.012463\n",
       "2000-01-10      1632.95     17022.0          0.012106         0.042790"
      ]
     },
     "execution_count": 5,
     "metadata": {},
     "output_type": "execute_result"
    }
   ],
   "source": [
    "import pandas as pd\n",
    "import numpy as np\n",
    "import matplotlib.pyplot as plt\n",
    "\n",
    "# Calculate log returns\n",
    "aligned_data['Log_Return_NIFTY'] = np.log(aligned_data['Close_NIFTY'] / aligned_data['Close_NIFTY'].shift(1))\n",
    "aligned_data['Log_Return_IBOV'] = np.log(aligned_data['Close_IBOV'] / aligned_data['Close_IBOV'].shift(1))\n",
    "\n",
    "# Drop missing values resulting from shift operation\n",
    "aligned_data = aligned_data.dropna()\n",
    "\n",
    "# Display head of the dataset\n",
    "aligned_data.head()\n"
   ]
  },
  {
   "cell_type": "code",
   "execution_count": 6,
   "id": "00a2502a-f814-4e54-8cd8-dddb721b9cfe",
   "metadata": {},
   "outputs": [
    {
     "name": "stdout",
     "output_type": "stream",
     "text": [
      "Performance Metrics Comparison between NIFTY and IBOVESPA\n",
      "------------------------------------------------------------\n",
      "Metric                               NIFTY     IBOVESPA\n",
      "------------------------------------------------------------\n",
      "Annualized Log Return (%)           11.53%       8.59%\n",
      "Volatility (%)                      22.68%      28.28%\n",
      "Sharpe Ratio                         0.3318     0.1625\n",
      "Sortino Ratio                        0.3539     0.1761\n"
     ]
    }
   ],
   "source": [
    "# Calculate average log returns\n",
    "average_log_return_nifty = aligned_data['Log_Return_NIFTY'].mean()\n",
    "average_log_return_ibov = aligned_data['Log_Return_IBOV'].mean()\n",
    "\n",
    "# Annualize log returns\n",
    "annualized_log_return_nifty = average_log_return_nifty * 252\n",
    "annualized_log_return_ibov = average_log_return_ibov * 252\n",
    "\n",
    "# Risk-free rate - US bonds\n",
    "risk_free_rate = 0.04\n",
    "\n",
    "# Calculate volatility (standard deviation of log returns, annualized)\n",
    "volatility_nifty = aligned_data['Log_Return_NIFTY'].std() * np.sqrt(252)\n",
    "volatility_ibov = aligned_data['Log_Return_IBOV'].std() * np.sqrt(252)\n",
    "\n",
    "# Calculate Sharpe Ratio\n",
    "sharpe_ratio_nifty = (annualized_log_return_nifty - risk_free_rate) / volatility_nifty\n",
    "sharpe_ratio_ibov = (annualized_log_return_ibov - risk_free_rate) / volatility_ibov\n",
    "\n",
    "# Calculate Sortino Ratio (assuming downside deviation is the same as volatility for simplicity)\n",
    "downside_deviation_nifty = aligned_data[aligned_data['Log_Return_NIFTY'] < risk_free_rate]['Log_Return_NIFTY'].std() * np.sqrt(252)\n",
    "downside_deviation_ibov = aligned_data[aligned_data['Log_Return_IBOV'] < risk_free_rate]['Log_Return_IBOV'].std() * np.sqrt(252)\n",
    "sortino_ratio_nifty = (annualized_log_return_nifty - risk_free_rate) / downside_deviation_nifty\n",
    "sortino_ratio_ibov = (annualized_log_return_ibov - risk_free_rate) / downside_deviation_ibov\n",
    "\n",
    "# Convert annualized returns and volatility to percentages\n",
    "annualized_log_return_nifty_pct = annualized_log_return_nifty * 100\n",
    "annualized_log_return_ibov_pct = annualized_log_return_ibov * 100\n",
    "volatility_nifty_pct = volatility_nifty * 100\n",
    "volatility_ibov_pct = volatility_ibov * 100\n",
    "\n",
    "# Present results\n",
    "print(\"Performance Metrics Comparison between NIFTY and IBOVESPA\")\n",
    "print(\"------------------------------------------------------------\")\n",
    "print(f\"{'Metric':<30} {'NIFTY':>11} {'IBOVESPA':>12}\")\n",
    "print(\"------------------------------------------------------------\")\n",
    "print(f\"{'Annualized Log Return (%)':<30} {annualized_log_return_nifty_pct:>10.2f}% {annualized_log_return_ibov_pct:>10.2f}%\")\n",
    "print(f\"{'Volatility (%)':<30} {volatility_nifty_pct:>10.2f}% {volatility_ibov_pct:>10.2f}%\")\n",
    "print(f\"{'Sharpe Ratio':<32} {sharpe_ratio_nifty:>10.4f} {sharpe_ratio_ibov:>10.4f}\")\n",
    "print(f\"{'Sortino Ratio':<32} {sortino_ratio_nifty:>10.4f} {sortino_ratio_ibov:>10.4f}\")\n"
   ]
  },
  {
   "cell_type": "markdown",
   "id": "9231a100-6607-4b22-8ff9-1d1cd494910e",
   "metadata": {},
   "source": [
    "### *Sharpe ratio measures the performance of an investment such as a security or portfolio compared to a risk-free asset, after adjusting for its risk.*"
   ]
  },
  {
   "cell_type": "markdown",
   "id": "e561a290-10ce-4d04-85ce-acbf2a068538",
   "metadata": {},
   "source": [
    "### *The Sortino ratio measures the risk-adjusted return of an investment asset, portfolio, or strategy. It is a modification of the Sharpe ratio but penalizes only those returns falling below a user-specified target or required rate of return, while the Sharpe ratio penalizes both upside and downside volatility equally.*"
   ]
  },
  {
   "cell_type": "code",
   "execution_count": 7,
   "id": "824d38e9-7045-4338-b1ea-48ef7a0795b3",
   "metadata": {},
   "outputs": [
    {
     "name": "stdout",
     "output_type": "stream",
     "text": [
      "Risk Metrics Comparison between NIFTY and IBOVESPA\n",
      "----------------------------------------------------------------\n",
      "Metric                                   NIFTY        IBOVESPA\n",
      "----------------------------------------------------------------\n",
      "VaR 95%                                 -2.18%          -2.75%\n",
      "CVaR 95%                                -3.50%          -4.11%\n",
      "Correlation                            0.2817\n"
     ]
    }
   ],
   "source": [
    "# Calculate rolling volatility\n",
    "aligned_data['Rolling_Volatility_NIFTY'] = aligned_data['Log_Return_NIFTY'].rolling(window=21).std() * np.sqrt(252)\n",
    "aligned_data['Rolling_Volatility_IBOV'] = aligned_data['Log_Return_IBOV'].rolling(window=21).std() * np.sqrt(252)\n",
    "\n",
    "# Calculate Value at Risk (VaR) at 95% confidence level\n",
    "var_95_nifty = np.percentile(aligned_data['Log_Return_NIFTY'], 5)\n",
    "var_95_ibov = np.percentile(aligned_data['Log_Return_IBOV'], 5)\n",
    "\n",
    "# Calculate Conditional Value at Risk (CVaR) at 95% confidence level\n",
    "cvar_95_nifty = aligned_data['Log_Return_NIFTY'][aligned_data['Log_Return_NIFTY'] <= var_95_nifty].mean()\n",
    "cvar_95_ibov = aligned_data['Log_Return_IBOV'][aligned_data['Log_Return_IBOV'] <= var_95_ibov].mean()\n",
    "\n",
    "# Calculate correlation between log returns\n",
    "correlation = aligned_data['Log_Return_NIFTY'].corr(aligned_data['Log_Return_IBOV'])\n",
    "\n",
    "# Convert VaR and CVaR to percentages\n",
    "var_95_nifty_pct = var_95_nifty * 100\n",
    "var_95_ibov_pct = var_95_ibov * 100\n",
    "cvar_95_nifty_pct = cvar_95_nifty * 100\n",
    "cvar_95_ibov_pct = cvar_95_ibov * 100\n",
    "\n",
    "# Present results\n",
    "print(\"Risk Metrics Comparison between NIFTY and IBOVESPA\")\n",
    "print(\"----------------------------------------------------------------\")\n",
    "print(f\"{'Metric':<30} {'NIFTY':>15} {'IBOVESPA':>15}\")\n",
    "print(\"----------------------------------------------------------------\")\n",
    "print(f\"{'VaR 95%':<30} {var_95_nifty_pct:>14.2f}% {var_95_ibov_pct:>14.2f}%\")\n",
    "print(f\"{'CVaR 95%':<30} {cvar_95_nifty_pct:>14.2f}% {cvar_95_ibov_pct:>14.2f}%\")\n",
    "print(f\"{'Correlation':<30} {correlation:>14.4f}\")\n"
   ]
  },
  {
   "cell_type": "markdown",
   "id": "bb24ddbc-a611-4866-87c9-2850acd89d01",
   "metadata": {},
   "source": [
    "### *Value at Risk (VaR) is a risk management metric that estimates the maximum potential loss of an investment or portfolio over a specified time period at a given confidence level. In simpler terms, it answers the question: \"How much could I lose with a certain probability over a specific period?\"*"
   ]
  },
  {
   "cell_type": "markdown",
   "id": "4731e6db-7e64-4b88-8c83-6f1631d29937",
   "metadata": {},
   "source": [
    "### *Conditional Value at Risk (CVaR), also known as Expected Shortfall, is a risk measure that provides an estimate of the average loss that would occur in the worst-case scenarios beyond the VaR threshold. It answers the question: \"If the loss exceeds VaR, what is the average loss?\"*"
   ]
  },
  {
   "cell_type": "markdown",
   "id": "395be8ac-7494-4d45-b4b5-73e6306fea23",
   "metadata": {},
   "source": [
    "### *The magnitude of 0.2840 suggests that while there is some relationship between the movements of these two indices, it is not particularly strong. In other words, the returns of NIFTY and IBOVESPA move in the same direction on average, but the relationship is not strong enough to reliably predict one based on the other.*"
   ]
  },
  {
   "cell_type": "code",
   "execution_count": 8,
   "id": "796961fd-999a-4829-89d4-1081b4a1001a",
   "metadata": {},
   "outputs": [
    {
     "data": {
      "image/png": "[encoded data removed]",
      "text/plain": [
       "<Figure size 1200x600 with 1 Axes>"
      ]
     },
     "metadata": {},
     "output_type": "display_data"
    }
   ],
   "source": [
    "\n",
    "# Plot cumulative returns\n",
    "aligned_data['Cumulative_Return_NIFTY'] = np.exp(aligned_data['Log_Return_NIFTY'].cumsum())\n",
    "aligned_data['Cumulative_Return_IBOV'] = np.exp(aligned_data['Log_Return_IBOV'].cumsum())\n",
    "\n",
    "aligned_data[['Cumulative_Return_NIFTY', 'Cumulative_Return_IBOV']].plot(figsize=(12, 6), title='Cumulative Returns')\n",
    "plt.show()\n"
   ]
  },
  {
   "cell_type": "code",
   "execution_count": null,
   "id": "f5e11adb-d6a1-47c6-bc8a-9faffff87b1f",
   "metadata": {},
   "outputs": [],
   "source": []
  },
  {
   "cell_type": "code",
   "execution_count": null,
   "id": "8331b4a4-a6e4-4e41-b0ba-b44d6de7fef0",
   "metadata": {},
   "outputs": [],
   "source": []
  }
 ],
 "metadata": {
  "kernelspec": {
   "display_name": "Python 3 (ipykernel)",
   "language": "python",
   "name": "python3"
  },
  "language_info": {
   "codemirror_mode": {
    "name": "ipython",
    "version": 3
   },
   "file_extension": ".py",
   "mimetype": "text/x-python",
   "name": "python",
   "nbconvert_exporter": "python",
   "pygments_lexer": "ipython3",
   "version": "3.11.8"
  },
  "widgets": {
   "application/vnd.jupyter.widget-state+json": {
    "state": {},
    "version_major": 2,
    "version_minor": 0
   }
  }
 },
 "nbformat": 4,
 "nbformat_minor": 5
}
