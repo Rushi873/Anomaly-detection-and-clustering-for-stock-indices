{
 "cells": [
  {
   "cell_type": "code",
   "execution_count": 1,
   "id": "0bb67cd3-a79b-441d-bd02-b429231bd9ab",
   "metadata": {},
   "outputs": [],
   "source": [
    "import pandas as pd\n",
    "import numpy as np\n",
    "import plotly.graph_objects as go\n",
    "import matplotlib.pyplot as plt\n",
    "%run Data_manipulation.ipynb"
   ]
  },
  {
   "cell_type": "markdown",
   "id": "74aa79a8-7209-4f59-89f9-cd3f934cea08",
   "metadata": {},
   "source": [
    "# Loading data"
   ]
  },
  {
   "cell_type": "code",
   "execution_count": 2,
   "id": "8201ed88-9d75-4ccd-943b-7cee6cb85de1",
   "metadata": {},
   "outputs": [],
   "source": [
    "NIFTY = pd.read_csv('D:/UFG/Data collection/NIFTY.csv')\n",
    "NIFTY['Date']= pd.to_datetime(NIFTY['Date'], format='%Y-%m-%d')\n",
    "scaled_data_NIFTY, scaler_NIFTY = scale_data(NIFTY)\n",
    "df_residuals_NIFTY, df_trend_NIFTY, df_seasonal_NIFTY, decomposition_results_NIFTY = transform_to_stationary(scaled_data_NIFTY)\n",
    "NIFTY.set_index('Date', inplace=True)\n",
    "scaled_data_NIFTY.set_index('Date', inplace=True)"
   ]
  },
  {
   "cell_type": "code",
   "execution_count": 3,
   "id": "43dacf0d-6612-4272-8dfa-1b66f10a4297",
   "metadata": {},
   "outputs": [],
   "source": [
    "IBOV = pd.read_csv('D:/UFG/Data collection/IBOV.csv')\n",
    "IBOV['Date']= pd.to_datetime(IBOV['Date'], format='%Y-%m-%d')\n",
    "scaled_data_IBOV, scaler_IBOV = scale_data(IBOV)\n",
    "df_residuals_IBOV, df_trend_IBOV, df_seasonal_IBOV, decomposition_results_IBOV = transform_to_stationary(scaled_data_IBOV)\n",
    "IBOV.set_index('Date', inplace=True)\n",
    "scaled_data_IBOV.set_index('Date', inplace=True)"
   ]
  },
  {
   "cell_type": "code",
   "execution_count": 4,
   "id": "27b7fc1c-27b7-4e1b-8f7e-5bad1c1149f3",
   "metadata": {},
   "outputs": [
    {
     "data": {
      "text/html": [
       "<div>\n",
       "<style scoped>\n",
       "    .dataframe tbody tr th:only-of-type {\n",
       "        vertical-align: middle;\n",
       "    }\n",
       "\n",
       "    .dataframe tbody tr th {\n",
       "        vertical-align: top;\n",
       "    }\n",
       "\n",
       "    .dataframe thead th {\n",
       "        text-align: right;\n",
       "    }\n",
       "</style>\n",
       "<table border=\"1\" class=\"dataframe\">\n",
       "  <thead>\n",
       "    <tr style=\"text-align: right;\">\n",
       "      <th></th>\n",
       "      <th>Close_NIFTY</th>\n",
       "      <th>Close_IBOV</th>\n",
       "    </tr>\n",
       "    <tr>\n",
       "      <th>Date</th>\n",
       "      <th></th>\n",
       "      <th></th>\n",
       "    </tr>\n",
       "  </thead>\n",
       "  <tbody>\n",
       "    <tr>\n",
       "      <th>2000-01-03</th>\n",
       "      <td>1592.2</td>\n",
       "      <td>16930.0</td>\n",
       "    </tr>\n",
       "    <tr>\n",
       "      <th>2000-01-04</th>\n",
       "      <td>1638.7</td>\n",
       "      <td>15851.0</td>\n",
       "    </tr>\n",
       "    <tr>\n",
       "      <th>2000-01-05</th>\n",
       "      <td>1595.8</td>\n",
       "      <td>16245.0</td>\n",
       "    </tr>\n",
       "    <tr>\n",
       "      <th>2000-01-06</th>\n",
       "      <td>1617.6</td>\n",
       "      <td>16107.0</td>\n",
       "    </tr>\n",
       "    <tr>\n",
       "      <th>2000-01-07</th>\n",
       "      <td>1613.3</td>\n",
       "      <td>16309.0</td>\n",
       "    </tr>\n",
       "  </tbody>\n",
       "</table>\n",
       "</div>"
      ],
      "text/plain": [
       "            Close_NIFTY  Close_IBOV\n",
       "Date                               \n",
       "2000-01-03       1592.2     16930.0\n",
       "2000-01-04       1638.7     15851.0\n",
       "2000-01-05       1595.8     16245.0\n",
       "2000-01-06       1617.6     16107.0\n",
       "2000-01-07       1613.3     16309.0"
      ]
     },
     "execution_count": 4,
     "metadata": {},
     "output_type": "execute_result"
    }
   ],
   "source": [
    "# Align the data by merging on the date index\n",
    "aligned_data = pd.merge(NIFTY['Close'], IBOV['Close'], left_index=True, right_index=True, suffixes=('_NIFTY', '_IBOV'))\n",
    "aligned_data.head()"
   ]
  },
  {
   "cell_type": "code",
   "execution_count": 5,
   "id": "4368bca3-8e9c-44fa-9572-af93bdc70278",
   "metadata": {},
   "outputs": [
    {
     "data": {
      "text/html": [
       "<div>\n",
       "<style scoped>\n",
       "    .dataframe tbody tr th:only-of-type {\n",
       "        vertical-align: middle;\n",
       "    }\n",
       "\n",
       "    .dataframe tbody tr th {\n",
       "        vertical-align: top;\n",
       "    }\n",
       "\n",
       "    .dataframe thead th {\n",
       "        text-align: right;\n",
       "    }\n",
       "</style>\n",
       "<table border=\"1\" class=\"dataframe\">\n",
       "  <thead>\n",
       "    <tr style=\"text-align: right;\">\n",
       "      <th></th>\n",
       "      <th>Close_NIFTY</th>\n",
       "      <th>Close_IBOV</th>\n",
       "    </tr>\n",
       "    <tr>\n",
       "      <th>Date</th>\n",
       "      <th></th>\n",
       "      <th></th>\n",
       "    </tr>\n",
       "  </thead>\n",
       "  <tbody>\n",
       "    <tr>\n",
       "      <th>2000-01-03</th>\n",
       "      <td>0.033373</td>\n",
       "      <td>0.068024</td>\n",
       "    </tr>\n",
       "    <tr>\n",
       "      <th>2000-01-04</th>\n",
       "      <td>0.035476</td>\n",
       "      <td>0.059449</td>\n",
       "    </tr>\n",
       "    <tr>\n",
       "      <th>2000-01-05</th>\n",
       "      <td>0.033536</td>\n",
       "      <td>0.062580</td>\n",
       "    </tr>\n",
       "    <tr>\n",
       "      <th>2000-01-06</th>\n",
       "      <td>0.034522</td>\n",
       "      <td>0.061483</td>\n",
       "    </tr>\n",
       "    <tr>\n",
       "      <th>2000-01-07</th>\n",
       "      <td>0.034328</td>\n",
       "      <td>0.063089</td>\n",
       "    </tr>\n",
       "  </tbody>\n",
       "</table>\n",
       "</div>"
      ],
      "text/plain": [
       "            Close_NIFTY  Close_IBOV\n",
       "Date                               \n",
       "2000-01-03     0.033373    0.068024\n",
       "2000-01-04     0.035476    0.059449\n",
       "2000-01-05     0.033536    0.062580\n",
       "2000-01-06     0.034522    0.061483\n",
       "2000-01-07     0.034328    0.063089"
      ]
     },
     "execution_count": 5,
     "metadata": {},
     "output_type": "execute_result"
    }
   ],
   "source": [
    "# Align the data by merging on the date index\n",
    "scaled_aligned_data = pd.merge(scaled_data_NIFTY['Close'], scaled_data_IBOV['Close'], left_index=True, right_index=True, suffixes=('_NIFTY', '_IBOV'))\n",
    "scaled_aligned_data.head()"
   ]
  },
  {
   "cell_type": "code",
   "execution_count": 14,
   "id": "6f0ad7dd-768f-41a4-bdc7-d8aa0a5fddb5",
   "metadata": {},
   "outputs": [
    {
     "data": {
      "text/plain": [
       "<Axes: xlabel='Date'>"
      ]
     },
     "execution_count": 14,
     "metadata": {},
     "output_type": "execute_result"
    },
    {
     "data": {
      "image/png": "[encoded data removed]",
      "text/plain": [
       "<Figure size 640x480 with 1 Axes>"
      ]
     },
     "metadata": {},
     "output_type": "display_data"
    }
   ],
   "source": [
    "scaled_aligned_data.plot()"
   ]
  },
  {
   "cell_type": "markdown",
   "id": "803e5077-3117-445b-9119-fadf125db06f",
   "metadata": {},
   "source": [
    "# Johansen Cointegration test"
   ]
  },
  {
   "cell_type": "code",
   "execution_count": 10,
   "id": "80c7f997-7e73-4995-8411-826e141347a3",
   "metadata": {},
   "outputs": [
    {
     "name": "stdout",
     "output_type": "stream",
     "text": [
      "Eigenvalues: [0.00184396 0.00020088]\n",
      "Critical Values (90%, 95%, 99%): [[13.4294 15.4943 19.9349]\n",
      " [ 2.7055  3.8415  6.6349]]\n",
      "\n",
      "Eigenvalue 1: 0.00184396\n",
      "  90% Critical Value: 13.4294\n",
      "  -> Series are not cointegrated at the 90% level.\n",
      "  95% Critical Value: 15.4943\n",
      "  -> Series are not cointegrated at the 95% level.\n",
      "  99% Critical Value: 19.9349\n",
      "  -> Series are not cointegrated at the 99% level.\n",
      "\n",
      "Eigenvalue 2: 0.00020088\n",
      "  90% Critical Value: 2.7055\n",
      "  -> Series are not cointegrated at the 90% level.\n",
      "  95% Critical Value: 3.8415\n",
      "  -> Series are not cointegrated at the 95% level.\n",
      "  99% Critical Value: 6.6349\n",
      "  -> Series are not cointegrated at the 99% level.\n"
     ]
    }
   ],
   "source": [
    "import pandas as pd\n",
    "from statsmodels.tsa.vector_ar.vecm import coint_johansen\n",
    "\n",
    "# Perform Johansen cointegration test\n",
    "# aligned_data should be a DataFrame with 'Close_NIFTY' and 'Close_IBOV' columns\n",
    "result = coint_johansen(aligned_data[['Close_NIFTY', 'Close_IBOV']], det_order=0, k_ar_diff=1)\n",
    "\n",
    "# Extract eigenvalues and critical values\n",
    "eigenvalues = result.eig\n",
    "crit_values = result.cvt\n",
    "\n",
    "# Print results\n",
    "print(\"Eigenvalues:\", eigenvalues)\n",
    "print(\"Critical Values (90%, 95%, 99%):\", crit_values)\n",
    "\n",
    "# Interpretation\n",
    "# Compare test statistics with critical values to determine cointegration\n",
    "significance_levels = [90, 95, 99]\n",
    "\n",
    "for i, eigenvalue in enumerate(eigenvalues):\n",
    "    print(f\"\\nEigenvalue {i+1}: {eigenvalue:.8f}\")\n",
    "    for j, crit_value in enumerate(crit_values[i]):\n",
    "        significance = significance_levels[j]\n",
    "        print(f\"  {significance}% Critical Value: {crit_value:.4f}\")\n",
    "        if eigenvalue > crit_value:\n",
    "            print(f\"  -> Series are cointegrated at the {significance}% level.\")\n",
    "        else:\n",
    "            print(f\"  -> Series are not cointegrated at the {significance}% level.\")\n"
   ]
  },
  {
   "cell_type": "markdown",
   "id": "98521f34-30f8-4d71-8e98-cc29c5766dc1",
   "metadata": {},
   "source": [
    "# Cointegration test by Year"
   ]
  },
  {
   "cell_type": "code",
   "execution_count": 13,
   "id": "e7b3e79f-2c55-4ac8-86f8-bcb6421be659",
   "metadata": {},
   "outputs": [
    {
     "name": "stdout",
     "output_type": "stream",
     "text": [
      "No cointegration found in 2000.\n",
      "No cointegration found in 2001.\n",
      "No cointegration found in 2002.\n",
      "No cointegration found in 2003.\n",
      "No cointegration found in 2004.\n",
      "No cointegration found in 2005.\n",
      "No cointegration found in 2006.\n",
      "No cointegration found in 2007.\n",
      "No cointegration found in 2008.\n",
      "No cointegration found in 2009.\n",
      "No cointegration found in 2010.\n",
      "No cointegration found in 2011.\n",
      "No cointegration found in 2012.\n",
      "No cointegration found in 2013.\n",
      "No cointegration found in 2014.\n",
      "No cointegration found in 2015.\n",
      "No cointegration found in 2016.\n",
      "No cointegration found in 2017.\n",
      "No cointegration found in 2018.\n",
      "No cointegration found in 2019.\n",
      "No cointegration found in 2020.\n",
      "No cointegration found in 2021.\n",
      "No cointegration found in 2022.\n",
      "No cointegration found in 2023.\n",
      "No cointegration found in 2024.\n"
     ]
    }
   ],
   "source": [
    "# Group the data by year and perform the Johansen cointegration test for each year\n",
    "for year, yearly_data in aligned_data.groupby(aligned_data.index.year):\n",
    "    # Perform Johansen cointegration test\n",
    "    result = coint_johansen(yearly_data[['Close_NIFTY', 'Close_IBOV']], det_order=0, k_ar_diff=1)\n",
    "\n",
    "    # Extract eigenvalues and critical values\n",
    "    eigenvalues = result.eig\n",
    "    crit_values = result.cvt\n",
    "\n",
    "    # Check for cointegration at any significance level\n",
    "    no_cointegration = True\n",
    "    significance_levels = [90, 95, 99]\n",
    "\n",
    "    for i, eigenvalue in enumerate(eigenvalues):\n",
    "        for j, crit_value in enumerate(crit_values[i]):\n",
    "            if eigenvalue > crit_value:\n",
    "                no_cointegration = False\n",
    "                break\n",
    "        if not no_cointegration:\n",
    "            break\n",
    "\n",
    "    # Print only if there is no cointegration at this year\n",
    "    if no_cointegration:\n",
    "        print(f\"No cointegration found in {year}.\")"
   ]
  },
  {
   "cell_type": "markdown",
   "id": "204b9095-e629-41c8-9843-9a652a9c9900",
   "metadata": {},
   "source": [
    "## *We can observe that the indices are not cointegrated even at the 90% critical value*"
   ]
  },
  {
   "cell_type": "code",
   "execution_count": 7,
   "id": "d83a2c9c-f1d4-4b0b-be52-f957a15c9ab9",
   "metadata": {},
   "outputs": [
    {
     "name": "stdout",
     "output_type": "stream",
     "text": [
      "Pearson Correlation: 0.9333857542045765\n",
      "Spearman Correlation: 0.9207468329099041\n"
     ]
    }
   ],
   "source": [
    "import pandas as pd\n",
    "\n",
    "# Calculate Pearson correlation\n",
    "pearson_corr = aligned_data[['Close_NIFTY', 'Close_IBOV']].corr().iloc[0, 1]\n",
    "print(f'Pearson Correlation: {pearson_corr}')\n",
    "\n",
    "# Calculate Spearman correlation\n",
    "spearman_corr = aligned_data[['Close_NIFTY', 'Close_IBOV']].corr(method='spearman').iloc[0, 1]\n",
    "print(f'Spearman Correlation: {spearman_corr}')\n"
   ]
  },
  {
   "cell_type": "markdown",
   "id": "52891878-fd54-48c4-b871-3f1518d86de5",
   "metadata": {},
   "source": [
    "### *There is presence of strong positive correlation between NIFTY and IBOV, the lack of cointegration indicates there is no long-term equilibrium relationship between the two indices. This means that while they may move together in the short term, they do not share a stable long-term connection. As a result, their relationship could diverge over time, and relying on their correlation alone might be misleading for long-term predictions or strategies.*\n",
    "\n",
    "\n",
    "\n",
    "\n",
    "\n",
    "\n",
    "\n"
   ]
  },
  {
   "cell_type": "markdown",
   "id": "1580f55e-29dd-4e5f-8d92-e0d4f15b4dee",
   "metadata": {},
   "source": [
    "### *Pearson Correlation - linear relationship and Spearman Correlation - Monotonic relationship*"
   ]
  },
  {
   "cell_type": "code",
   "execution_count": null,
   "id": "291f5b3a-8d08-4332-a8e2-a6d5bbdb451d",
   "metadata": {},
   "outputs": [],
   "source": []
  }
 ],
 "metadata": {
  "kernelspec": {
   "display_name": "Python 3 (ipykernel)",
   "language": "python",
   "name": "python3"
  },
  "language_info": {
   "codemirror_mode": {
    "name": "ipython",
    "version": 3
   },
   "file_extension": ".py",
   "mimetype": "text/x-python",
   "name": "python",
   "nbconvert_exporter": "python",
   "pygments_lexer": "ipython3",
   "version": "3.11.8"
  },
  "widgets": {
   "application/vnd.jupyter.widget-state+json": {
    "state": {},
    "version_major": 2,
    "version_minor": 0
   }
  }
 },
 "nbformat": 4,
 "nbformat_minor": 5
}
